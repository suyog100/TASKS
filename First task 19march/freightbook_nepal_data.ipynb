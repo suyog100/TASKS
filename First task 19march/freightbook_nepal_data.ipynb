{
 "cells": [
  {
   "cell_type": "code",
   "execution_count": 5,
   "id": "b5d40f5e",
   "metadata": {},
   "outputs": [],
   "source": [
    "\n",
    "import requests\n",
    "from bs4 import BeautifulSoup\n",
    "import json\n",
    "import time\n"
   ]
  },
  {
   "cell_type": "code",
   "execution_count": 6,
   "id": "84b30d4e",
   "metadata": {},
   "outputs": [],
   "source": [
    "def scrape_freightbook(url):\n",
    "    try:\n",
    "        response = requests.get(url)\n",
    "        response.raise_for_status()  # Raise HTTPError for bad responses (4xx or 5xx)\n",
    "\n",
    "        soup = BeautifulSoup(response.content, 'html.parser')\n",
    "        search_results = soup.find('div', class_='search-results')\n",
    "\n",
    "        if not search_results:\n",
    "            print(\"Warning: Could not find 'search-results' div.  Page structure may have changed.\")\n",
    "            return []\n",
    "\n",
    "        business_cards = search_results.find_all('div', class_='business-card vcard')\n",
    "        \n",
    "        data = []\n",
    "        for card in business_cards:\n",
    "            org_div = card.find('div', class_='org')\n",
    "            if org_div:\n",
    "                organization = org_div.find('h2').text.strip()\n",
    "\n",
    "                address_div = card.find('div', class_='street-address')\n",
    "                address = address_div.text.strip() if address_div else \"Address not found\"\n",
    "\n",
    "                country_div = card.find('div', class_='country-name')\n",
    "                country = country_div.text.strip() if country_div else \"Country not found\"\n",
    "\n",
    "                data.append({\n",
    "                    'organization': organization,\n",
    "                    'address': address,\n",
    "                    'country': country\n",
    "                })\n",
    "            else:\n",
    "                print(\"Warning: Could not find 'org' div in a business card.\")\n",
    "\n",
    "        return data\n",
    "\n",
    "    except requests.exceptions.RequestException as e:\n",
    "        print(f\"Error during request: {e}\")\n",
    "        return []\n",
    "    except Exception as e:\n",
    "        print(f\"An unexpected error occurred: {e}\")\n",
    "        return []"
   ]
  },
  {
   "cell_type": "code",
   "execution_count": 9,
   "id": "073c26ed",
   "metadata": {},
   "outputs": [],
   "source": [
    "def main():\n",
    "    url = \"https://m.freightbook.net/member/results?country=154\"\n",
    "    scraped_data = scrape_freightbook(url)\n",
    "\n",
    "    if scraped_data:\n",
    "        print(f\"Successfully scraped {len(scraped_data)} records.\")\n",
    "        with open('freightbook_data_nepal.json', 'w', encoding='utf-8') as f:\n",
    "            json.dump(scraped_data, f, indent=4, ensure_ascii=False)  # Ensure proper encoding\n",
    "        print(\"Data saved to freightbook_data_nepal.json\")\n",
    "    else:\n",
    "        print(\"No data scraped.\")"
   ]
  },
  {
   "cell_type": "code",
   "execution_count": 10,
   "id": "724fcc6a",
   "metadata": {},
   "outputs": [
    {
     "name": "stdout",
     "output_type": "stream",
     "text": [
      "Successfully scraped 1 records.\n",
      "Data saved to freightbook_data_nepal.json\n"
     ]
    }
   ],
   "source": [
    "if __name__ == \"__main__\":\n",
    "    main()"
   ]
  },
  {
   "cell_type": "code",
   "execution_count": null,
   "id": "9cb985f1",
   "metadata": {},
   "outputs": [],
   "source": []
  }
 ],
 "metadata": {
  "kernelspec": {
   "display_name": "Python 3 (ipykernel)",
   "language": "python",
   "name": "python3"
  },
  "language_info": {
   "codemirror_mode": {
    "name": "ipython",
    "version": 3
   },
   "file_extension": ".py",
   "mimetype": "text/x-python",
   "name": "python",
   "nbconvert_exporter": "python",
   "pygments_lexer": "ipython3",
   "version": "3.9.12"
  }
 },
 "nbformat": 4,
 "nbformat_minor": 5
}
